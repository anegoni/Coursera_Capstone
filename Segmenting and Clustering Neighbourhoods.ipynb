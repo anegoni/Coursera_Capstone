{
    "cells": [
        {
            "metadata": {
                "collapsed": true
            },
            "cell_type": "markdown",
            "source": "<h1 align=center><font size = 5>Segmenting and Clustering Neighborhoods in Toronto (Canada)</font></h1>"
        },
        {
            "metadata": {},
            "cell_type": "markdown",
            "source": "First import the libraries that will be needed."
        },
        {
            "metadata": {},
            "cell_type": "code",
            "source": "import pandas as pd\nimport numpy as np\n\n!conda install -c conda-forge wikipedia --yes\nimport wikipedia as wp\n",
            "execution_count": 49,
            "outputs": [
                {
                    "output_type": "stream",
                    "text": "Solving environment: - ^C\nfailed\n\nCondaError: KeyboardInterrupt\n\n",
                    "name": "stdout"
                }
            ]
        },
        {
            "metadata": {},
            "cell_type": "markdown",
            "source": "Get Toronto data from Wikipedia page."
        },
        {
            "metadata": {},
            "cell_type": "code",
            "source": "html = wp.page(\"List_of_postal_codes_of_Canada:_M\").html().encode(\"UTF-8\")\ndf = pd.read_html(html)[0]\ndf = df[df['Borough'] != 'Not assigned']   # Ignore cells with a borough that is Not assigned.\ndf.head()",
            "execution_count": 102,
            "outputs": [
                {
                    "output_type": "execute_result",
                    "execution_count": 102,
                    "data": {
                        "text/plain": "  Postcode           Borough     Neighbourhood\n2      M3A        North York         Parkwoods\n3      M4A        North York  Victoria Village\n4      M5A  Downtown Toronto      Harbourfront\n5      M6A        North York  Lawrence Heights\n6      M6A        North York    Lawrence Manor",
                        "text/html": "<div>\n<style scoped>\n    .dataframe tbody tr th:only-of-type {\n        vertical-align: middle;\n    }\n\n    .dataframe tbody tr th {\n        vertical-align: top;\n    }\n\n    .dataframe thead th {\n        text-align: right;\n    }\n</style>\n<table border=\"1\" class=\"dataframe\">\n  <thead>\n    <tr style=\"text-align: right;\">\n      <th></th>\n      <th>Postcode</th>\n      <th>Borough</th>\n      <th>Neighbourhood</th>\n    </tr>\n  </thead>\n  <tbody>\n    <tr>\n      <th>2</th>\n      <td>M3A</td>\n      <td>North York</td>\n      <td>Parkwoods</td>\n    </tr>\n    <tr>\n      <th>3</th>\n      <td>M4A</td>\n      <td>North York</td>\n      <td>Victoria Village</td>\n    </tr>\n    <tr>\n      <th>4</th>\n      <td>M5A</td>\n      <td>Downtown Toronto</td>\n      <td>Harbourfront</td>\n    </tr>\n    <tr>\n      <th>5</th>\n      <td>M6A</td>\n      <td>North York</td>\n      <td>Lawrence Heights</td>\n    </tr>\n    <tr>\n      <th>6</th>\n      <td>M6A</td>\n      <td>North York</td>\n      <td>Lawrence Manor</td>\n    </tr>\n  </tbody>\n</table>\n</div>"
                    },
                    "metadata": {}
                }
            ]
        },
        {
            "metadata": {},
            "cell_type": "markdown",
            "source": "Combine neighbourhoods in the same Postal Code Areas into one row with the neighborhoods separated with a comma.\nIf a cell has a borough but a Not assigned neighborhood, then the neighborhood will be the same as the borough.\nUse the .shape method to print the number of rows of your dataframe."
        },
        {
            "metadata": {},
            "cell_type": "code",
            "source": "columnnames = df.columns\ndf_new = pd.DataFrame(columns=columnnames)\nPostcode = df['Postcode'].unique()\n\nfor pc in Postcode:\n    pos = df['Postcode'] == pc\n    borough = df['Borough'][pos].unique()\n    neighbourhoods = df['Neighbourhood'][pos]\n    neighbourhoods.mask(neighbourhoods=='Not assigned',borough, inplace = True)\n    neighbourhoods = neighbourhoods.str.cat(sep=',')\n    df_new = df_new.append({'Postcode':pc, 'Borough':np.array2string(borough), 'Neighbourhood':neighbourhoods}, ignore_index=True)\n    \nprint('The dataframe has {} rows.'.format(df_new.shape[0]))\ndf_new.head()",
            "execution_count": 109,
            "outputs": [
                {
                    "output_type": "stream",
                    "text": "The dataframe has 103 rows.\nThe dataframe has 103 rows.\n",
                    "name": "stdout"
                }
            ]
        },
        {
            "metadata": {},
            "cell_type": "code",
            "source": "",
            "execution_count": null,
            "outputs": []
        },
        {
            "metadata": {},
            "cell_type": "code",
            "source": "",
            "execution_count": null,
            "outputs": []
        },
        {
            "metadata": {},
            "cell_type": "code",
            "source": "",
            "execution_count": null,
            "outputs": []
        },
        {
            "metadata": {},
            "cell_type": "markdown",
            "source": "If a cell has a borough but a Not assigned neighborhood, then the neighborhood will be the same as the borough. "
        },
        {
            "metadata": {},
            "cell_type": "code",
            "source": "",
            "execution_count": null,
            "outputs": []
        },
        {
            "metadata": {},
            "cell_type": "markdown",
            "source": ""
        },
        {
            "metadata": {},
            "cell_type": "code",
            "source": "",
            "execution_count": null,
            "outputs": []
        }
    ],
    "metadata": {
        "kernelspec": {
            "name": "python3",
            "display_name": "Python 3.6",
            "language": "python"
        },
        "language_info": {
            "name": "python",
            "version": "3.6.9",
            "mimetype": "text/x-python",
            "codemirror_mode": {
                "name": "ipython",
                "version": 3
            },
            "pygments_lexer": "ipython3",
            "nbconvert_exporter": "python",
            "file_extension": ".py"
        }
    },
    "nbformat": 4,
    "nbformat_minor": 1
}