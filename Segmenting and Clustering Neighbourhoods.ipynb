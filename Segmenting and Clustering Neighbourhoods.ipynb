{
    "cells": [
        {
            "metadata": {
                "collapsed": true
            },
            "cell_type": "markdown",
            "source": "<h1 align=center><font size = 5>Segmenting and Clustering Neighborhoods in Toronto (Canada)</font></h1>"
        },
        {
            "metadata": {},
            "cell_type": "markdown",
            "source": "## 1. Create a dataframe with Toronto data"
        },
        {
            "metadata": {},
            "cell_type": "markdown",
            "source": "First import the libraries that will be needed."
        },
        {
            "metadata": {},
            "cell_type": "code",
            "source": "import pandas as pd\nimport numpy as np\n\n!conda install -c conda-forge wikipedia --yes\nimport wikipedia as wp\n",
            "execution_count": 49,
            "outputs": [
                {
                    "output_type": "stream",
                    "text": "Solving environment: - ^C\nfailed\n\nCondaError: KeyboardInterrupt\n\n",
                    "name": "stdout"
                }
            ]
        },
        {
            "metadata": {},
            "cell_type": "markdown",
            "source": "Get Toronto data from Wikipedia page."
        },
        {
            "metadata": {},
            "cell_type": "code",
            "source": "html = wp.page(\"List_of_postal_codes_of_Canada:_M\").html().encode(\"UTF-8\")\ndf = pd.read_html(html)[0]\ndf = df[df['Borough'] != 'Not assigned']   # Ignore cells with a borough that is Not assigned.\ndf.head()",
            "execution_count": 102,
            "outputs": [
                {
                    "output_type": "execute_result",
                    "execution_count": 102,
                    "data": {
                        "text/plain": "  Postcode           Borough     Neighbourhood\n2      M3A        North York         Parkwoods\n3      M4A        North York  Victoria Village\n4      M5A  Downtown Toronto      Harbourfront\n5      M6A        North York  Lawrence Heights\n6      M6A        North York    Lawrence Manor",
                        "text/html": "<div>\n<style scoped>\n    .dataframe tbody tr th:only-of-type {\n        vertical-align: middle;\n    }\n\n    .dataframe tbody tr th {\n        vertical-align: top;\n    }\n\n    .dataframe thead th {\n        text-align: right;\n    }\n</style>\n<table border=\"1\" class=\"dataframe\">\n  <thead>\n    <tr style=\"text-align: right;\">\n      <th></th>\n      <th>Postcode</th>\n      <th>Borough</th>\n      <th>Neighbourhood</th>\n    </tr>\n  </thead>\n  <tbody>\n    <tr>\n      <th>2</th>\n      <td>M3A</td>\n      <td>North York</td>\n      <td>Parkwoods</td>\n    </tr>\n    <tr>\n      <th>3</th>\n      <td>M4A</td>\n      <td>North York</td>\n      <td>Victoria Village</td>\n    </tr>\n    <tr>\n      <th>4</th>\n      <td>M5A</td>\n      <td>Downtown Toronto</td>\n      <td>Harbourfront</td>\n    </tr>\n    <tr>\n      <th>5</th>\n      <td>M6A</td>\n      <td>North York</td>\n      <td>Lawrence Heights</td>\n    </tr>\n    <tr>\n      <th>6</th>\n      <td>M6A</td>\n      <td>North York</td>\n      <td>Lawrence Manor</td>\n    </tr>\n  </tbody>\n</table>\n</div>"
                    },
                    "metadata": {}
                }
            ]
        },
        {
            "metadata": {},
            "cell_type": "markdown",
            "source": "Combine neighbourhoods in the same Postal Code Areas into one row with the neighborhoods separated with a comma.\nIf a cell has a borough but a Not assigned neighborhood, then the neighborhood will be the same as the borough.\nUse the .shape method to print the number of rows of your dataframe."
        },
        {
            "metadata": {},
            "cell_type": "code",
            "source": "columnnames = df.columns\ndf_new = pd.DataFrame(columns=columnnames)\nPostcode = df['Postcode'].unique()\n\nfor pc in Postcode:\n    pos = df['Postcode'] == pc\n    borough = df['Borough'][pos].unique()\n    neighbourhoods = df['Neighbourhood'][pos]\n    neighbourhoods.mask(neighbourhoods=='Not assigned',borough, inplace = True)\n    neighbourhoods = neighbourhoods.str.cat(sep=',')\n    df_new = df_new.append({'Postcode':pc, 'Borough':np.array2string(borough), 'Neighbourhood':neighbourhoods}, ignore_index=True)\n    \nprint('The dataframe has {} rows.'.format(df_new.shape[0]))\ndf_new.head()",
            "execution_count": 110,
            "outputs": [
                {
                    "output_type": "stream",
                    "text": "The dataframe has 103 rows.\n",
                    "name": "stdout"
                },
                {
                    "output_type": "execute_result",
                    "execution_count": 110,
                    "data": {
                        "text/plain": "  Postcode               Borough                    Neighbourhood\n0      M3A        ['North York']                        Parkwoods\n1      M4A        ['North York']                 Victoria Village\n2      M5A  ['Downtown Toronto']                     Harbourfront\n3      M6A        ['North York']  Lawrence Heights,Lawrence Manor\n4      M7A  ['Downtown Toronto']                     Queen's Park",
                        "text/html": "<div>\n<style scoped>\n    .dataframe tbody tr th:only-of-type {\n        vertical-align: middle;\n    }\n\n    .dataframe tbody tr th {\n        vertical-align: top;\n    }\n\n    .dataframe thead th {\n        text-align: right;\n    }\n</style>\n<table border=\"1\" class=\"dataframe\">\n  <thead>\n    <tr style=\"text-align: right;\">\n      <th></th>\n      <th>Postcode</th>\n      <th>Borough</th>\n      <th>Neighbourhood</th>\n    </tr>\n  </thead>\n  <tbody>\n    <tr>\n      <th>0</th>\n      <td>M3A</td>\n      <td>['North York']</td>\n      <td>Parkwoods</td>\n    </tr>\n    <tr>\n      <th>1</th>\n      <td>M4A</td>\n      <td>['North York']</td>\n      <td>Victoria Village</td>\n    </tr>\n    <tr>\n      <th>2</th>\n      <td>M5A</td>\n      <td>['Downtown Toronto']</td>\n      <td>Harbourfront</td>\n    </tr>\n    <tr>\n      <th>3</th>\n      <td>M6A</td>\n      <td>['North York']</td>\n      <td>Lawrence Heights,Lawrence Manor</td>\n    </tr>\n    <tr>\n      <th>4</th>\n      <td>M7A</td>\n      <td>['Downtown Toronto']</td>\n      <td>Queen's Park</td>\n    </tr>\n  </tbody>\n</table>\n</div>"
                    },
                    "metadata": {}
                }
            ]
        },
        {
            "metadata": {},
            "cell_type": "markdown",
            "source": "## 2. Get the latitude and the longitude coordinates of each neighborhood"
        },
        {
            "metadata": {},
            "cell_type": "markdown",
            "source": "Install and imprt Geocoder library"
        },
        {
            "metadata": {},
            "cell_type": "code",
            "source": "!conda install -c conda-forge geocoder --yes\nimport geocoder # import geocoder",
            "execution_count": 134,
            "outputs": [
                {
                    "output_type": "stream",
                    "text": "Solving environment: done\n\n## Package Plan ##\n\n  environment location: /opt/conda/envs/Python36\n\n  added / updated specs: \n    - geocoder\n\n\nThe following packages will be downloaded:\n\n    package                    |            build\n    ---------------------------|-----------------\n    geocoder-1.38.1            |             py_1          53 KB  conda-forge\n    ratelim-0.1.6              |             py_2           6 KB  conda-forge\n    ------------------------------------------------------------\n                                           Total:          59 KB\n\nThe following NEW packages will be INSTALLED:\n\n    geocoder: 1.38.1-py_1 conda-forge\n    ratelim:  0.1.6-py_2  conda-forge\n\n\nDownloading and Extracting Packages\ngeocoder-1.38.1      | 53 KB     | ##################################### | 100% \nratelim-0.1.6        | 6 KB      | ##################################### | 100% \nPreparing transaction: done\nVerifying transaction: done\nExecuting transaction: done\n",
                    "name": "stdout"
                }
            ]
        },
        {
            "metadata": {},
            "cell_type": "code",
            "source": "# initialize variables\nLatitude=[]\nLongitude=[]\n\nfor pc in Postcode:\n    # loop until you get the coordinates\n    lat_lng_coords = None\n    while(lat_lng_coords is None):\n        g = geocoder.arcgis('{}, Toronto, Ontario'.format(pc))\n        lat_lng_coords = g.latlng\n    Latitude.append(lat_lng_coords[0])\n    Longitude.append(lat_lng_coords[1])\n",
            "execution_count": 173,
            "outputs": []
        },
        {
            "metadata": {},
            "cell_type": "code",
            "source": "# Add the latitude and longitude data of e\ndf_new['Latitude'] = Latitude\ndf_new['Longitude'] = Longitude\n\ndf_new.head()",
            "execution_count": 181,
            "outputs": [
                {
                    "output_type": "execute_result",
                    "execution_count": 181,
                    "data": {
                        "text/plain": "  Postcode               Borough                    Neighbourhood   Latitude  \\\n0      M3A        ['North York']                        Parkwoods  43.752420   \n1      M4A        ['North York']                 Victoria Village  43.730600   \n2      M5A  ['Downtown Toronto']                     Harbourfront  43.650295   \n3      M6A        ['North York']  Lawrence Heights,Lawrence Manor  43.723270   \n4      M7A  ['Downtown Toronto']                     Queen's Park  43.661150   \n\n   Longitude  \n0 -79.329242  \n1 -79.313265  \n2 -79.359166  \n3 -79.451286  \n4 -79.391715  ",
                        "text/html": "<div>\n<style scoped>\n    .dataframe tbody tr th:only-of-type {\n        vertical-align: middle;\n    }\n\n    .dataframe tbody tr th {\n        vertical-align: top;\n    }\n\n    .dataframe thead th {\n        text-align: right;\n    }\n</style>\n<table border=\"1\" class=\"dataframe\">\n  <thead>\n    <tr style=\"text-align: right;\">\n      <th></th>\n      <th>Postcode</th>\n      <th>Borough</th>\n      <th>Neighbourhood</th>\n      <th>Latitude</th>\n      <th>Longitude</th>\n    </tr>\n  </thead>\n  <tbody>\n    <tr>\n      <th>0</th>\n      <td>M3A</td>\n      <td>['North York']</td>\n      <td>Parkwoods</td>\n      <td>43.752420</td>\n      <td>-79.329242</td>\n    </tr>\n    <tr>\n      <th>1</th>\n      <td>M4A</td>\n      <td>['North York']</td>\n      <td>Victoria Village</td>\n      <td>43.730600</td>\n      <td>-79.313265</td>\n    </tr>\n    <tr>\n      <th>2</th>\n      <td>M5A</td>\n      <td>['Downtown Toronto']</td>\n      <td>Harbourfront</td>\n      <td>43.650295</td>\n      <td>-79.359166</td>\n    </tr>\n    <tr>\n      <th>3</th>\n      <td>M6A</td>\n      <td>['North York']</td>\n      <td>Lawrence Heights,Lawrence Manor</td>\n      <td>43.723270</td>\n      <td>-79.451286</td>\n    </tr>\n    <tr>\n      <th>4</th>\n      <td>M7A</td>\n      <td>['Downtown Toronto']</td>\n      <td>Queen's Park</td>\n      <td>43.661150</td>\n      <td>-79.391715</td>\n    </tr>\n  </tbody>\n</table>\n</div>"
                    },
                    "metadata": {}
                }
            ]
        },
        {
            "metadata": {},
            "cell_type": "markdown",
            "source": "## 3. Explore and cluster the neighborhoods in Toronto"
        },
        {
            "metadata": {},
            "cell_type": "markdown",
            "source": ""
        }
    ],
    "metadata": {
        "kernelspec": {
            "name": "python3",
            "display_name": "Python 3.6",
            "language": "python"
        },
        "language_info": {
            "name": "python",
            "version": "3.6.9",
            "mimetype": "text/x-python",
            "codemirror_mode": {
                "name": "ipython",
                "version": 3
            },
            "pygments_lexer": "ipython3",
            "nbconvert_exporter": "python",
            "file_extension": ".py"
        }
    },
    "nbformat": 4,
    "nbformat_minor": 1
}