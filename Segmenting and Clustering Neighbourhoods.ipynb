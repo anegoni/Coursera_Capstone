{
    "cells": [
        {
            "cell_type": "markdown",
            "metadata": {
                "collapsed": true
            },
            "source": "<h1 align=center><font size = 5>Segmenting and Clustering Neighborhoods in Toronto (Canada)</font></h1>"
        },
        {
            "cell_type": "markdown",
            "metadata": {},
            "source": "## 1. Create a dataframe with Toronto data"
        },
        {
            "cell_type": "markdown",
            "metadata": {},
            "source": "First import the libraries that will be needed."
        },
        {
            "cell_type": "code",
            "execution_count": 49,
            "metadata": {},
            "outputs": [
                {
                    "name": "stdout",
                    "output_type": "stream",
                    "text": "Solving environment: - ^C\nfailed\n\nCondaError: KeyboardInterrupt\n\n"
                }
            ],
            "source": "import pandas as pd\nimport numpy as np\n\n!conda install -c conda-forge wikipedia --yes\nimport wikipedia as wp\n"
        },
        {
            "cell_type": "markdown",
            "metadata": {},
            "source": "Get Toronto data from Wikipedia page."
        },
        {
            "cell_type": "code",
            "execution_count": 102,
            "metadata": {},
            "outputs": [
                {
                    "data": {
                        "text/html": "<div>\n<style scoped>\n    .dataframe tbody tr th:only-of-type {\n        vertical-align: middle;\n    }\n\n    .dataframe tbody tr th {\n        vertical-align: top;\n    }\n\n    .dataframe thead th {\n        text-align: right;\n    }\n</style>\n<table border=\"1\" class=\"dataframe\">\n  <thead>\n    <tr style=\"text-align: right;\">\n      <th></th>\n      <th>Postcode</th>\n      <th>Borough</th>\n      <th>Neighbourhood</th>\n    </tr>\n  </thead>\n  <tbody>\n    <tr>\n      <th>2</th>\n      <td>M3A</td>\n      <td>North York</td>\n      <td>Parkwoods</td>\n    </tr>\n    <tr>\n      <th>3</th>\n      <td>M4A</td>\n      <td>North York</td>\n      <td>Victoria Village</td>\n    </tr>\n    <tr>\n      <th>4</th>\n      <td>M5A</td>\n      <td>Downtown Toronto</td>\n      <td>Harbourfront</td>\n    </tr>\n    <tr>\n      <th>5</th>\n      <td>M6A</td>\n      <td>North York</td>\n      <td>Lawrence Heights</td>\n    </tr>\n    <tr>\n      <th>6</th>\n      <td>M6A</td>\n      <td>North York</td>\n      <td>Lawrence Manor</td>\n    </tr>\n  </tbody>\n</table>\n</div>",
                        "text/plain": "  Postcode           Borough     Neighbourhood\n2      M3A        North York         Parkwoods\n3      M4A        North York  Victoria Village\n4      M5A  Downtown Toronto      Harbourfront\n5      M6A        North York  Lawrence Heights\n6      M6A        North York    Lawrence Manor"
                    },
                    "execution_count": 102,
                    "metadata": {},
                    "output_type": "execute_result"
                }
            ],
            "source": "html = wp.page(\"List_of_postal_codes_of_Canada:_M\").html().encode(\"UTF-8\")\ndf = pd.read_html(html)[0]\ndf = df[df['Borough'] != 'Not assigned']   # Ignore cells with a borough that is Not assigned.\ndf.head()"
        },
        {
            "cell_type": "markdown",
            "metadata": {},
            "source": "Combine neighbourhoods in the same Postal Code Areas into one row with the neighborhoods separated with a comma.\nIf a cell has a borough but a Not assigned neighborhood, then the neighborhood will be the same as the borough.\nUse the .shape method to print the number of rows of your dataframe."
        },
        {
            "cell_type": "code",
            "execution_count": 110,
            "metadata": {},
            "outputs": [
                {
                    "name": "stdout",
                    "output_type": "stream",
                    "text": "The dataframe has 103 rows.\n"
                },
                {
                    "data": {
                        "text/html": "<div>\n<style scoped>\n    .dataframe tbody tr th:only-of-type {\n        vertical-align: middle;\n    }\n\n    .dataframe tbody tr th {\n        vertical-align: top;\n    }\n\n    .dataframe thead th {\n        text-align: right;\n    }\n</style>\n<table border=\"1\" class=\"dataframe\">\n  <thead>\n    <tr style=\"text-align: right;\">\n      <th></th>\n      <th>Postcode</th>\n      <th>Borough</th>\n      <th>Neighbourhood</th>\n    </tr>\n  </thead>\n  <tbody>\n    <tr>\n      <th>0</th>\n      <td>M3A</td>\n      <td>['North York']</td>\n      <td>Parkwoods</td>\n    </tr>\n    <tr>\n      <th>1</th>\n      <td>M4A</td>\n      <td>['North York']</td>\n      <td>Victoria Village</td>\n    </tr>\n    <tr>\n      <th>2</th>\n      <td>M5A</td>\n      <td>['Downtown Toronto']</td>\n      <td>Harbourfront</td>\n    </tr>\n    <tr>\n      <th>3</th>\n      <td>M6A</td>\n      <td>['North York']</td>\n      <td>Lawrence Heights,Lawrence Manor</td>\n    </tr>\n    <tr>\n      <th>4</th>\n      <td>M7A</td>\n      <td>['Downtown Toronto']</td>\n      <td>Queen's Park</td>\n    </tr>\n  </tbody>\n</table>\n</div>",
                        "text/plain": "  Postcode               Borough                    Neighbourhood\n0      M3A        ['North York']                        Parkwoods\n1      M4A        ['North York']                 Victoria Village\n2      M5A  ['Downtown Toronto']                     Harbourfront\n3      M6A        ['North York']  Lawrence Heights,Lawrence Manor\n4      M7A  ['Downtown Toronto']                     Queen's Park"
                    },
                    "execution_count": 110,
                    "metadata": {},
                    "output_type": "execute_result"
                }
            ],
            "source": "columnnames = df.columns\ndf_new = pd.DataFrame(columns=columnnames)\nPostcode = df['Postcode'].unique()\n\nfor pc in Postcode:\n    pos = df['Postcode'] == pc\n    borough = df['Borough'][pos].unique()\n    neighbourhoods = df['Neighbourhood'][pos]\n    neighbourhoods.mask(neighbourhoods=='Not assigned',borough, inplace = True)\n    neighbourhoods = neighbourhoods.str.cat(sep=',')\n    df_new = df_new.append({'Postcode':pc, 'Borough':np.array2string(borough), 'Neighbourhood':neighbourhoods}, ignore_index=True)\n    \nprint('The dataframe has {} rows.'.format(df_new.shape[0]))\ndf_new.head()"
        },
        {
            "cell_type": "markdown",
            "metadata": {},
            "source": "## 2. Get the latitude and the longitude coordinates of each neighborhood"
        },
        {
            "cell_type": "markdown",
            "metadata": {},
            "source": "Install and imprt Geocoder library"
        },
        {
            "cell_type": "code",
            "execution_count": 134,
            "metadata": {},
            "outputs": [
                {
                    "name": "stdout",
                    "output_type": "stream",
                    "text": "Solving environment: done\n\n## Package Plan ##\n\n  environment location: /opt/conda/envs/Python36\n\n  added / updated specs: \n    - geocoder\n\n\nThe following packages will be downloaded:\n\n    package                    |            build\n    ---------------------------|-----------------\n    geocoder-1.38.1            |             py_1          53 KB  conda-forge\n    ratelim-0.1.6              |             py_2           6 KB  conda-forge\n    ------------------------------------------------------------\n                                           Total:          59 KB\n\nThe following NEW packages will be INSTALLED:\n\n    geocoder: 1.38.1-py_1 conda-forge\n    ratelim:  0.1.6-py_2  conda-forge\n\n\nDownloading and Extracting Packages\ngeocoder-1.38.1      | 53 KB     | ##################################### | 100% \nratelim-0.1.6        | 6 KB      | ##################################### | 100% \nPreparing transaction: done\nVerifying transaction: done\nExecuting transaction: done\n"
                }
            ],
            "source": "!conda install -c conda-forge geocoder --yes\nimport geocoder # import geocoder"
        },
        {
            "cell_type": "code",
            "execution_count": 173,
            "metadata": {},
            "outputs": [],
            "source": "# initialize variables\nLatitude=[]\nLongitude=[]\n\nfor pc in Postcode:\n    # loop until you get the coordinates\n    lat_lng_coords = None\n    while(lat_lng_coords is None):\n        g = geocoder.arcgis('{}, Toronto, Ontario'.format(pc))\n        lat_lng_coords = g.latlng\n    Latitude.append(lat_lng_coords[0])\n    Longitude.append(lat_lng_coords[1])\n"
        },
        {
            "cell_type": "code",
            "execution_count": 181,
            "metadata": {},
            "outputs": [
                {
                    "data": {
                        "text/html": "<div>\n<style scoped>\n    .dataframe tbody tr th:only-of-type {\n        vertical-align: middle;\n    }\n\n    .dataframe tbody tr th {\n        vertical-align: top;\n    }\n\n    .dataframe thead th {\n        text-align: right;\n    }\n</style>\n<table border=\"1\" class=\"dataframe\">\n  <thead>\n    <tr style=\"text-align: right;\">\n      <th></th>\n      <th>Postcode</th>\n      <th>Borough</th>\n      <th>Neighbourhood</th>\n      <th>Latitude</th>\n      <th>Longitude</th>\n    </tr>\n  </thead>\n  <tbody>\n    <tr>\n      <th>0</th>\n      <td>M3A</td>\n      <td>['North York']</td>\n      <td>Parkwoods</td>\n      <td>43.752420</td>\n      <td>-79.329242</td>\n    </tr>\n    <tr>\n      <th>1</th>\n      <td>M4A</td>\n      <td>['North York']</td>\n      <td>Victoria Village</td>\n      <td>43.730600</td>\n      <td>-79.313265</td>\n    </tr>\n    <tr>\n      <th>2</th>\n      <td>M5A</td>\n      <td>['Downtown Toronto']</td>\n      <td>Harbourfront</td>\n      <td>43.650295</td>\n      <td>-79.359166</td>\n    </tr>\n    <tr>\n      <th>3</th>\n      <td>M6A</td>\n      <td>['North York']</td>\n      <td>Lawrence Heights,Lawrence Manor</td>\n      <td>43.723270</td>\n      <td>-79.451286</td>\n    </tr>\n    <tr>\n      <th>4</th>\n      <td>M7A</td>\n      <td>['Downtown Toronto']</td>\n      <td>Queen's Park</td>\n      <td>43.661150</td>\n      <td>-79.391715</td>\n    </tr>\n  </tbody>\n</table>\n</div>",
                        "text/plain": "  Postcode               Borough                    Neighbourhood   Latitude  \\\n0      M3A        ['North York']                        Parkwoods  43.752420   \n1      M4A        ['North York']                 Victoria Village  43.730600   \n2      M5A  ['Downtown Toronto']                     Harbourfront  43.650295   \n3      M6A        ['North York']  Lawrence Heights,Lawrence Manor  43.723270   \n4      M7A  ['Downtown Toronto']                     Queen's Park  43.661150   \n\n   Longitude  \n0 -79.329242  \n1 -79.313265  \n2 -79.359166  \n3 -79.451286  \n4 -79.391715  "
                    },
                    "execution_count": 181,
                    "metadata": {},
                    "output_type": "execute_result"
                }
            ],
            "source": "# Add the latitude and longitude data of e\ndf_new['Latitude'] = Latitude\ndf_new['Longitude'] = Longitude\n\ndf_new.head()"
        },
        {
            "cell_type": "markdown",
            "metadata": {},
            "source": "## 3. Explore and cluster the neighborhoods in Toronto"
        },
        {
            "cell_type": "markdown",
            "metadata": {},
            "source": ""
        }
    ],
    "metadata": {
        "kernelspec": {
            "display_name": "Python 3.6",
            "language": "python",
            "name": "python3"
        },
        "language_info": {
            "codemirror_mode": {
                "name": "ipython",
                "version": 3
            },
            "file_extension": ".py",
            "mimetype": "text/x-python",
            "name": "python",
            "nbconvert_exporter": "python",
            "pygments_lexer": "ipython3",
            "version": "3.6.9"
        }
    },
    "nbformat": 4,
    "nbformat_minor": 1
}